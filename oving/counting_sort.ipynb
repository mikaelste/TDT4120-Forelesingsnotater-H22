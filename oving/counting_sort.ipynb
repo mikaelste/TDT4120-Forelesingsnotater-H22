{
 "cells": [
  {
   "cell_type": "code",
   "execution_count": 7,
   "metadata": {},
   "outputs": [],
   "source": [
    "tests = (\n",
    "    ([], []),\n",
    "    ([1], [1]),\n",
    "    ([1, 2, 3, 4], [1, 2, 3, 4]),\n",
    "    ([4, 3, 2, 1], [1, 2, 3, 4]),\n",
    "    ([1, 1, 2, 1], [1, 1, 1, 2]),\n",
    "    ([1281, 1, 2], [1, 2, 1281]),\n",
    "    ([0, 2047, 0, 2047], [0, 0, 2047, 2047]),\n",
    "    (\n",
    "        [995, 334, 709, 999, 502, 303, 274, 488, 997, 568, 546, 756],\n",
    "        [274, 303, 334, 488, 502, 546, 568, 709, 756, 995, 997, 999],\n",
    "    ),\n",
    "    (\n",
    "        [648, 298, 568, 681, 795, 356, 603, 772, 373, 50, 253, 116],\n",
    "        [50, 116, 253, 298, 356, 373, 568, 603, 648, 681, 772, 795],\n",
    "    ),\n",
    ")\n"
   ]
  },
  {
   "cell_type": "code",
   "execution_count": 37,
   "metadata": {},
   "outputs": [
    {
     "name": "stdout",
     "output_type": "stream",
     "text": [
      "test: []\n",
      " solution: []\n",
      "test: [1]\n",
      " solution: [1]\n",
      "test: [1, 2, 3, 4]\n",
      " solution: [1, 2, 3, 4]\n",
      "test: [1, 2, 3, 4]\n",
      " solution: [1, 2, 3, 4]\n",
      "test: [1, 1, 1, 2]\n",
      " solution: [1, 1, 1, 2]\n",
      "test: [1, 2, 1281]\n",
      " solution: [1, 2, 1281]\n",
      "test: [0, 0, 2047, 2047]\n",
      " solution: [0, 0, 2047, 2047]\n",
      "test: [274, 303, 334, 488, 502, 546, 568, 709, 756, 995, 997, 999]\n",
      " solution: [274, 303, 334, 488, 502, 546, 568, 709, 756, 995, 997, 999]\n",
      "test: [50, 116, 253, 298, 356, 373, 568, 603, 648, 681, 772, 795]\n",
      " solution: [50, 116, 253, 298, 356, 373, 568, 603, 648, 681, 772, 795]\n"
     ]
    }
   ],
   "source": [
    "def counting_sort(A: list[int], n) -> list[int]:\n",
    "    if (n == 0): return []\n",
    "    mx = max(A) + 1\n",
    "    B: list[int] = [0] * n\n",
    "    C: list[int] = [0] * mx\n",
    "    for a in A:\n",
    "        C[a] += 1\n",
    "    for i in range(1, mx):\n",
    "        C[i] += C[i-1]\n",
    "    j: int = n - 1\n",
    "    while j >= 0:\n",
    "        B[C[A[j]] - 1] = A[j]\n",
    "        C[A[j]] -= 1\n",
    "        j -= 1\n",
    "    return B\n",
    "\n",
    "for test, result in tests:\n",
    "    print(f'test: {counting_sort(test, len(test))}\\n solution: {result}')"
   ]
  },
  {
   "cell_type": "code",
   "execution_count": null,
   "metadata": {},
   "outputs": [],
   "source": []
  }
 ],
 "metadata": {
  "kernelspec": {
   "display_name": "Python 3.10.6 64-bit",
   "language": "python",
   "name": "python3"
  },
  "language_info": {
   "name": "python",
   "version": "3.10.6"
  },
  "orig_nbformat": 4,
  "vscode": {
   "interpreter": {
    "hash": "b0fa6594d8f4cbf19f97940f81e996739fb7646882a419484c72d19e05852a7e"
   }
  }
 },
 "nbformat": 4,
 "nbformat_minor": 2
}
