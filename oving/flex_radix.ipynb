{
 "cells": [
  {
   "cell_type": "code",
   "execution_count": 2,
   "metadata": {},
   "outputs": [],
   "source": [
    "def char_to_int(str):\n",
    "    return [ord(char) - 97 for char in str]\n",
    "\n",
    "tests = (\n",
    "    (([], 1), []),\n",
    "    (([\"a\"], 1), [\"a\"]),\n",
    "    (([\"a\", \"b\"], 1), [\"a\", \"b\"]),\n",
    "    (([\"b\", \"a\"], 1), [\"a\", \"b\"]),\n",
    "    (([\"a\", \"z\"], 1), [\"a\", \"z\"]),\n",
    "    (([\"z\", \"a\"], 1), [\"a\", \"z\"]),\n",
    "    (([\"ba\", \"ab\"], 2), [\"ab\", \"ba\"]),\n",
    "    (([\"b\", \"ab\"], 2), [\"ab\", \"b\"]),\n",
    "    (([\"ab\", \"a\"], 2), [\"a\", \"ab\"]),\n",
    "    (([\"zb\", \"za\"], 2), [\"za\", \"zb\"]),\n",
    "    (([\"abc\", \"b\"], 3), [\"abc\", \"b\"]),\n",
    "    (([\"xyz\", \"y\"], 3), [\"xyz\", \"y\"]),\n",
    "    (([\"abc\", \"b\"], 4), [\"abc\", \"b\"]),\n",
    "    (([\"xyz\", \"y\"], 4), [\"xyz\", \"y\"]),\n",
    "    (([\"zyxy\", \"yxz\"], 4), [\"yxz\", \"zyxy\"]),\n",
    "    (([\"abc\", \"b\", \"bbbb\"], 4), [\"abc\", \"b\", \"bbbb\"]),\n",
    "    (([\"abcd\", \"abcd\", \"bbbb\"], 4), [\"abcd\", \"abcd\", \"bbbb\"]),\n",
    "    (([\"abcd\", \"wxyz\", \"bbbb\"], 4), [\"abcd\", \"bbbb\", \"wxyz\"]),\n",
    "    (([\"abcd\", \"wxyz\", \"bazy\"], 4), [\"abcd\", \"bazy\", \"wxyz\"]),\n",
    "    (([\"a\", \"b\", \"c\", \"babcbababa\"], 10), [\"a\", \"b\", \"babcbababa\", \"c\"]),\n",
    "    (([\"a\", \"b\", \"c\", \"babcbababa\"], 10), [\"a\", \"b\", \"babcbababa\", \"c\"]),\n",
    "    (([\"w\", \"x\", \"y\", \"xxyzxyzxyz\"], 10), [\"w\", \"x\", \"xxyzxyzxyz\", \"y\"]),\n",
    "    (([\"b\", \"a\", \"y\", \"xxyzxyzxyz\"], 10), [\"a\", \"b\", \"xxyzxyzxyz\", \"y\"]),\n",
    "    (([\"jfiqdopvak\", \"nzvoquirej\", \"jfibopvmcq\"], 10), [\"jfibopvmcq\", \"jfiqdopvak\", \"nzvoquirej\"]),\n",
    ")\n"
   ]
  },
  {
   "cell_type": "code",
   "execution_count": null,
   "metadata": {},
   "outputs": [],
   "source": [
    "def counting_sort(A: list[int], n) -> list[int]:\n",
    "    if (n == 0): return []\n",
    "    mx = max(A) + 1\n",
    "    B: list[int] = [0] * n\n",
    "    C: list[int] = [0] * mx\n",
    "    for a in A:\n",
    "        C[a] += 1\n",
    "    for i in range(1, mx):\n",
    "        C[i] += C[i-1]\n",
    "    j: int = n - 1\n",
    "    while j >= 0:\n",
    "        B[C[A[j]] - 1] = A[j]\n",
    "        C[A[j]] -= 1\n",
    "        j -= 1\n",
    "    return B\n",
    "\n",
    "\n",
    "\n",
    "def flexradix(A, n, d):\n",
    "    for i in range(d):\n",
    "        \n"
   ]
  }
 ],
 "metadata": {
  "kernelspec": {
   "display_name": "Python 3.10.6 64-bit",
   "language": "python",
   "name": "python3"
  },
  "language_info": {
   "codemirror_mode": {
    "name": "ipython",
    "version": 3
   },
   "file_extension": ".py",
   "mimetype": "text/x-python",
   "name": "python",
   "nbconvert_exporter": "python",
   "pygments_lexer": "ipython3",
   "version": "3.10.6"
  },
  "orig_nbformat": 4,
  "vscode": {
   "interpreter": {
    "hash": "b0fa6594d8f4cbf19f97940f81e996739fb7646882a419484c72d19e05852a7e"
   }
  }
 },
 "nbformat": 4,
 "nbformat_minor": 2
}
