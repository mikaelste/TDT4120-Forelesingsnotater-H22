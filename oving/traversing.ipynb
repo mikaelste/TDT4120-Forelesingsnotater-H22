{
 "cells": [
  {
   "cell_type": "code",
   "execution_count": 6,
   "metadata": {},
   "outputs": [],
   "source": [
    "import numpy as np"
   ]
  },
  {
   "cell_type": "code",
   "execution_count": 7,
   "metadata": {},
   "outputs": [],
   "source": [
    "# test_case, answer in tests:\n",
    "\n",
    "tests = [\n",
    "    (([], [], 0), []),\n",
    "    (([[\"ab\"]], [], 0), [[]]),\n",
    "    (([], [[\"ab\"]], 0), []),\n",
    "    (([[\"ab\"]], [[\"ab\"]], 1), [[0]]),\n",
    "    (([[\"ab\"]], [[\"ac\"]], 1), [[]]),\n",
    "    (([[\"ab\"]], [[\"ac\"]], 0), [[0]]),\n",
    "    (([[\"ab\"]], [[\"ac\"], [\"ab\"]], 1), [[1]]),\n",
    "    (([[\"ab\"], [\"ac\"]], [[\"ab\"]], 1), [[0], []]),\n",
    "    (([[\"ab\"], [\"ac\"]], [[\"ac\"], [\"ab\"]], 1), [[1], [0]]),\n",
    "    (([[\"ab\"], [\"ac\"]], [[\"ac\"], [\"ab\"]], 0), [[0, 1], [0, 1]]),\n",
    "    (([[\"ab\", \"ac\"]], [[\"ac\", \"ab\"]], 1), [[]]),\n",
    "    (\n",
    "        ([[\"ab\", \"12\"], [\"ac\", \"22\"]], [[\"ab\", \"22\"], [\"ac\", \"22\"]], 2),\n",
    "        [[], [1]],\n",
    "    ),\n",
    "    (([], [[], []], 1), []),\n",
    "    (\n",
    "        (\n",
    "            [],\n",
    "            [\n",
    "                [\"IRk\", \"s\", \"S\", \"9zF\"],\n",
    "                [\"V2xa\", \"JqZV\", \"PxbUl\", \"WbKZw\"],\n",
    "                [\"V2xa\", \"s\", \"PxbUl\", \"7NoD\"],\n",
    "            ],\n",
    "            2,\n",
    "        ),\n",
    "        [],\n",
    "    ),\n",
    "    (\n",
    "        (\n",
    "            [[\"dwfAa\", \"bt7c\", \"d1iP\"], [\"dwfAa\", \"bt7c\", \"d1iP\"]],\n",
    "            [\n",
    "                [\"dwfAa\", \"H\", \"vN82\"],\n",
    "                [\"dwfAa\", \"bt7c\", \"vN82\"],\n",
    "                [\"dwfAa\", \"H\", \"vN82\"],\n",
    "            ],\n",
    "            4,\n",
    "        ),\n",
    "        [[], []],\n",
    "    ),\n",
    "    (\n",
    "        ([[\"oLfIi\", \"wPAw\"], [\"gTnJf\", \"wPAw\"], [\"gTnJf\", \"LERhd\"]], [], 1),\n",
    "        [[], [], []],\n",
    "    ),\n",
    "    (\n",
    "        ([[\"uw\"], [\"uw\"], [\"Lb\"], [\"uw\"]], [[\"4r7lb\"], [\"Lb\"]], 1),\n",
    "        [[], [], [1], []],\n",
    "    ),\n",
    "    (([[\"wcaP\", \"zXgJ\"]], [], 1), [[]]),\n",
    "    (([], [], 1), []),\n",
    "    (\n",
    "        (\n",
    "            [[\"w\", \"oA\", \"oIa\"]],\n",
    "            [[\"w\", \"oA\", \"oIa\"], [\"d\", \"oA\", \"vodI\"], [\"w\", \"oA\", \"5\"]],\n",
    "            1,\n",
    "        ),\n",
    "        [[0, 1, 2]],\n",
    "    ),\n",
    "    (([], [[\"x\", \"7HyQl\", \"Wr38\", \"Ww\"], [\"x\", \"7HyQl\", \"yq\", \"Ww\"]], 9), []),\n",
    "    (([[\"rX1\", \"z\"], [\"rX1\", \"ZY2w\"]], [[\"qX1Ph\", \"7a0M\"]], 1), [[], []]),\n",
    "]"
   ]
  },
  {
   "cell_type": "code",
   "execution_count": 53,
   "metadata": {},
   "outputs": [],
   "source": [
    "def compatibility_graph(donors, recipients, k) -> list:\n",
    "    # Skriv din kode her\n",
    "    compability = [[] for c in np.zeros(len(donors))]\n",
    "    i = 0\n",
    "    j = 0\n",
    "    if len(donors) == 0 or len(recipients) == 0:\n",
    "        return compability\n",
    "    while i < len(donors):\n",
    "        temp_c = []\n",
    "        j = 0\n",
    "        while j < len(recipients[i]):\n",
    "            if donors[i][j] == recipients[i][j]:\n",
    "                temp_c.append(j)\n",
    "            j += 1\n",
    "        if len(temp_c) >= k:\n",
    "            [compability[i].append(c) for c in temp_c]\n",
    "        i += 1\n",
    "    return compability"
   ]
  },
  {
   "cell_type": "code",
   "execution_count": 54,
   "metadata": {},
   "outputs": [
    {
     "name": "stdout",
     "output_type": "stream",
     "text": [
      "5 : [[]] \t [[0]]\n",
      "6 : [[]] \t [[1]]\n"
     ]
    },
    {
     "ename": "IndexError",
     "evalue": "list index out of range",
     "output_type": "error",
     "traceback": [
      "\u001b[0;31m---------------------------------------------------------------------------\u001b[0m",
      "\u001b[0;31mIndexError\u001b[0m                                Traceback (most recent call last)",
      "Cell \u001b[0;32mIn [54], line 3\u001b[0m\n\u001b[1;32m      1\u001b[0m iTest \u001b[39m=\u001b[39m \u001b[39m0\u001b[39m\n\u001b[1;32m      2\u001b[0m \u001b[39mfor\u001b[39;00m test_case, answer \u001b[39min\u001b[39;00m tests:\n\u001b[0;32m----> 3\u001b[0m     run \u001b[39m=\u001b[39m compatibility_graph(test_case[\u001b[39m0\u001b[39;49m], test_case[\u001b[39m1\u001b[39;49m], test_case[\u001b[39m2\u001b[39;49m])\n\u001b[1;32m      4\u001b[0m     \u001b[39mif\u001b[39;00m run \u001b[39m!=\u001b[39m answer:\n\u001b[1;32m      5\u001b[0m         \u001b[39mprint\u001b[39m(iTest, \u001b[39m\"\u001b[39m\u001b[39m:\u001b[39m\u001b[39m\"\u001b[39m, run, \u001b[39m\"\u001b[39m\u001b[39m\\t\u001b[39;00m\u001b[39m\"\u001b[39m,  answer)\n",
      "Cell \u001b[0;32mIn [53], line 11\u001b[0m, in \u001b[0;36mcompatibility_graph\u001b[0;34m(donors, recipients, k)\u001b[0m\n\u001b[1;32m      9\u001b[0m temp_c \u001b[39m=\u001b[39m []\n\u001b[1;32m     10\u001b[0m j \u001b[39m=\u001b[39m \u001b[39m0\u001b[39m\n\u001b[0;32m---> 11\u001b[0m \u001b[39mwhile\u001b[39;00m j \u001b[39m<\u001b[39m \u001b[39mlen\u001b[39m(recipients[i]):\n\u001b[1;32m     12\u001b[0m     \u001b[39mif\u001b[39;00m donors[i][j] \u001b[39m==\u001b[39m recipients[i][j]:\n\u001b[1;32m     13\u001b[0m         temp_c\u001b[39m.\u001b[39mappend(j)\n",
      "\u001b[0;31mIndexError\u001b[0m: list index out of range"
     ]
    }
   ],
   "source": [
    "iTest = 0\n",
    "for test_case, answer in tests:\n",
    "    run = compatibility_graph(test_case[0], test_case[1], test_case[2])\n",
    "    if run != answer:\n",
    "        print(iTest, \":\", run, \"\\t\",  answer)\n",
    "    iTest += 1"
   ]
  },
  {
   "cell_type": "code",
   "execution_count": null,
   "metadata": {},
   "outputs": [],
   "source": []
  }
 ],
 "metadata": {
  "kernelspec": {
   "display_name": "Python 3.10.7 64-bit",
   "language": "python",
   "name": "python3"
  },
  "language_info": {
   "codemirror_mode": {
    "name": "ipython",
    "version": 3
   },
   "file_extension": ".py",
   "mimetype": "text/x-python",
   "name": "python",
   "nbconvert_exporter": "python",
   "pygments_lexer": "ipython3",
   "version": "3.10.7"
  },
  "orig_nbformat": 4,
  "vscode": {
   "interpreter": {
    "hash": "b0fa6594d8f4cbf19f97940f81e996739fb7646882a419484c72d19e05852a7e"
   }
  }
 },
 "nbformat": 4,
 "nbformat_minor": 2
}
