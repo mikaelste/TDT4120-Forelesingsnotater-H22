{
 "cells": [
  {
   "cell_type": "code",
   "execution_count": 1,
   "metadata": {},
   "outputs": [],
   "source": [
    "# python Imports"
   ]
  },
  {
   "cell_type": "markdown",
   "metadata": {},
   "source": [
    "## Trekantulikhet\n",
    "\n",
    "- Én Trekantside kan må være mindre eller lik summen av de to andre sidene\n",
    "\n",
    "Sentrale poeng:\n",
    "\n",
    "1. $w(k,j) + \\delta(i,k)-\\delta(i,j) \\geq 0$"
   ]
  },
  {
   "cell_type": "markdown",
   "metadata": {},
   "source": [
    "# 1:4 Johnsons algoritme\n",
    "\n",
    "INPUT:\n",
    "- En vektet, rettet graf $G = (V, E)$ uten negative sykler, der $V  = {1, ..., n}$, og vektene er gitt i matrisen $W = (w_{i, j})$\n",
    "\n",
    "OUTPUT:\n",
    "- En nxn-matrise $D = d(i,j)$ med avstander, dvs., $d_{i,j} = \\delta(i,j)$\n",
    "\n",
    "Hvis vi har en graf med få kanter (relativt) lønner det å kjøre seg Dijkstras algoritme fra hver node ... Men hva om vi har negative kanter?\n",
    "\n",
    "Design:\n",
    "\n",
    "Instans -> En rettet graf med vekting\n",
    "    Løsning -> Avstand for alle noder\n",
    "\n",
    "Reduksjon (i-> ii) -> w(u,v) + h(u) - h(v) = ^w(u,v)\n",
    "    Rekonstruksjon $\\delta(u,v) = \\delta_{hat} + h(v) - h(u)$\n",
    "\n",
    "Instans (ii) -> En vektet graf med w >= 0\n",
    "    Løsning (ii) -> Avstand mellom alle noder\n",
    "\n",
    "Redukjson (ii->iii) -> Bruk hver node u som startnode\n",
    "    Rekonstruksjon -> Samle delløsninger\n",
    "\n",
    "Instanser iii  -> En rettet graf med vektig større eller lik 0 og startnode u\n",
    "    Løsning -> Ansvstand for alle noder v\n",
    "\n",
    "\n",
    "## Oppgave 22-3\n",
    "Om du har flaks, kan du veksle mellom ulike valutaer, og ende opp med mer enn du startet med i den opprinnelige valutaen. Hvordan kan du avdekke slike muligheter. *Det holder med å vise at de eksisterer*\n",
    "\n",
    "Observasjoner\n",
    "- Finne den negative sykelen med Belmond-Ford algoritmen\n",
    "- Gå mellom sum og produkt, bruk logaritmer og eksponensialfuksjoner på grunn av deres isomorfi fra sum til produkt\n",
    "\n",
    "Løsning -> Bytt valutakurs med $-\\lg{c}$ for valutakurs c\n",
    "\n",
    "*Hvorfor funker det?*\n",
    "\n",
    "x - y - z, er en sykel, hvor (x, y, z) > 1\n",
    "- $\\lg(x, y, z) > 0$\n",
    "- $\\lg{x} + \\lg{y} + \\lg{z}$ > 0 => $-(\\lg{x} + \\lg{y} + \\lg{z}) < 0$\n",
    "\n",
    "Kjøretid er Belmond-Ford + V*Dijkstras"
   ]
  },
  {
   "cell_type": "markdown",
   "metadata": {},
   "source": [
    "# 2:4 matriseprodukt\n",
    "\n",
    "..."
   ]
  },
  {
   "cell_type": "markdown",
   "metadata": {},
   "source": [
    "# 3:4 Transitiv luking\n",
    "\n",
    "Handler om å utvide en mengde slik at den inneholder \"et eller annet\"\n",
    "- Lukke mengden av kanter under operasjonen om å følge en sti. Der det går en sti -> legg til en kant\n",
    "\n",
    "Handler om binære reslasjoner hvor vi har en binær relasjon til å inkludere alle transitive par\n",
    "\n",
    "INPUT:\n",
    "- En rettet graf\n",
    "\n",
    "OUTPUT:\n",
    "- En rettet graf der det er lagt til stier for transitive relasjoner som er lik summen av vekting og lengder av veiene fra den ene noden til den andre."
   ]
  },
  {
   "cell_type": "markdown",
   "metadata": {},
   "source": [
    "## Problem 23-1a\n",
    "\n",
    "Du har funnet den transitive grafen $T^*$. Men det legges til en ny kant $(u, v)$ til i E. Hvordan kan du oppdatere G* med kjøretid $O(V^2)$\n",
    "\n",
    "Løsning\n",
    "- For alle noder $(x, y) \\in V$, se om $(x, y)$ ligger i $E^*$. I så fall, legg $(x, y)$ til i $E^*$"
   ]
  },
  {
   "cell_type": "markdown",
   "metadata": {},
   "source": [
    "# 4:4 Floyd-Warshall\n",
    "\n",
    "Transitiv lukning for å finne den korteste veien.\n",
    "1. Finne en node til alle andre\n",
    "2. Dijkstra med en tabell?\n",
    "3. ... Binærhaug, fibonaccihaug\n",
    "\n",
    "Vi ønsker en enklere algoritme, tillate negative kanter (ikke bare Johnson dersom vi har litt færre kanter)\n",
    "\n",
    "Lavere asymptotisk kjøretid"
   ]
  }
 ],
 "metadata": {
  "kernelspec": {
   "display_name": "Python 3.10.7 64-bit",
   "language": "python",
   "name": "python3"
  },
  "language_info": {
   "codemirror_mode": {
    "name": "ipython",
    "version": 3
   },
   "file_extension": ".py",
   "mimetype": "text/x-python",
   "name": "python",
   "nbconvert_exporter": "python",
   "pygments_lexer": "ipython3",
   "version": "3.10.7"
  },
  "orig_nbformat": 4,
  "vscode": {
   "interpreter": {
    "hash": "b0fa6594d8f4cbf19f97940f81e996739fb7646882a419484c72d19e05852a7e"
   }
  }
 },
 "nbformat": 4,
 "nbformat_minor": 2
}
