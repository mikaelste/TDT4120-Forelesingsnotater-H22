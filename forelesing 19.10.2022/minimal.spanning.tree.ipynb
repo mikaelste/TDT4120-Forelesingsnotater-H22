{
 "cells": [
  {
   "cell_type": "markdown",
   "metadata": {},
   "source": [
    "# 1:4 disjukte mengder\n",
    "\n",
    "- Mengder representert ved trær\n",
    "- hver mengde representert med én node\n",
    "\n",
    "**Union by rang-heurustikk**, får hver node en rang\n",
    "- en øvre grense for nodehøyden (lengden på den lengste stien fra en løvnode og opp)"
   ]
  },
  {
   "cell_type": "markdown",
   "metadata": {},
   "source": [
    "Funksjoner\n",
    "- Finne **Connected-Components**\n",
    "    - *Make-Set*\n",
    "    - *Find-Set*\n",
    "    - *Union*"
   ]
  },
  {
   "cell_type": "markdown",
   "metadata": {},
   "source": [
    "## Oppgave\n",
    "Hvordan fordele n antall forelesninger på minst antall auditorier x?\n",
    "\n",
    "løsning:\n",
    "- Antall uavhengi noder vil bli det lavest antall auditorier\n",
    "- Må legge til k+1 auditorier for k aktiviteter som foregår samtidig\n",
    "\n",
    "*Quod est necessarium est licitum*\n",
    "&rarr; *What is necessary is lawful*"
   ]
  },
  {
   "cell_type": "markdown",
   "metadata": {},
   "source": [
    "# 2:4 Generisk MST &rarr; Minimal Spanning Tree\n",
    "\n",
    "- Delgraf består av en delmegde kanter av en delmengder node\n",
    "- Spenngrafer betyr at alle noder er inkludert -> Bare fjernet kanter (har alle noder)\n",
    "- asykliske spennoder\n",
    "- spenntrær er sammenhengende spennskoger\n",
    "\n",
    "**Innfører**\n",
    "- vekter på kanter\n",
    "    - løengde, kostnad\n",
    "    - Reelt tall\n",
    "\n",
    "Målet er å knytt sammen nodene billigst mulig\n"
   ]
  },
  {
   "cell_type": "markdown",
   "metadata": {},
   "source": [
    "### Viktige egenskaper\n",
    "\n",
    "INPUT = urettet graf\n",
    "OUTPUT = asyklisk delmengde\n",
    "\n",
    "om kanten $uv$ skal inngå i løsningen, må den kobles til resten av grafen billigst mulig\n",
    "- denne kanten kan abstraheres, og oppfattes som én node **kontrahere**\n",
    "    - tar en kant som arver alle kantene til en annen\n",
    "    &rarr; $u, v = w$\n"
   ]
  },
  {
   "cell_type": "markdown",
   "metadata": {},
   "source": [
    "```\n",
    "Generic_MST(G, w):\n",
    "    A = Ø // tom kantmengde\n",
    "    while A != et spenntre, finn edge(u, v) safe for A\n",
    "        A = A U {(u,v)}\n",
    "```\n",
    "NB! **En trygg kant*, er en lett kant over snitt uten kanter så langt\n",
    "\n",
    "```\n",
    "Generic_MST(G, w):\n",
    "    A = Ø // tom kantmengde\n",
    "    while A != et spenntre, finn edge(u, v) safe for A\n",
    "        A = A U {(u,v)}\n",
    "```"
   ]
  },
  {
   "cell_type": "markdown",
   "metadata": {},
   "source": [
    "# Kruskal 3:4\n",
    "*En kant med minimal vekt blandt de gjenværende er trygg så lenge den ikke danner sykler*\n",
    "\n",
    "To skoger på én gang (hver node har en peker mot forelder)\n",
    "- i tillegg til de vanlige kantene i grafen\n",
    "\n",
    "```\n",
    "MST-KRUSKAL(G, w):\n",
    "    A = Ø\n",
    "    for each vertex in G.V\n",
    "        Make-Set(v)\n",
    "    create list of edges, sorted by weight\n",
    "    for each edge (u, v) in list:\n",
    "        if Find-Set(u) != Find-Set(v)\n",
    "            A = A U {(u,v)}\n",
    "            Union (u,v) // Oppdaterer mengderepresentasjonen\n",
    "```\n",
    "\n",
    "## Kjøretid\n",
    "MAKE-SET:\n",
    "- Antall V => O(1)\n",
    "SORTERING:\n",
    "- Antall 1 => O(E lgE)\n",
    "FIND-SET:\n",
    "- antall O(E) => O($\\alpha{V}$) = O(lg(V))\n",
    "UNION:\n",
    "- antall O(E) => O($\\alpha{V}$) = O(lg(V))\n",
    "\n",
    "Totalt = O(E lg(V))"
   ]
  },
  {
   "cell_type": "markdown",
   "metadata": {},
   "source": [
    "### Oppgave\n",
    "graf med minimalt spenntre T\n",
    "- vekten reduseres til en av kantene utenfor T\n",
    "\n",
    "*Hvordan finner man det minimale spenntreet?*\n",
    "\n",
    "Løsning:\n",
    "w(v, w) reduseres, sjekker for den ny sykelen om w(e) > w(v, u) in sykelen.\n",
    "- Så bytter vi ut den dyreste (om den har blitt billigere)"
   ]
  },
  {
   "cell_type": "markdown",
   "metadata": {},
   "source": [
    "# Prim 4:4\n",
    "*Bygger ett tre gradvis; en lett kan over snittet rundt treet er alltid trygg*\n",
    "\n",
    "BFS bruker FIFO og DFS bruker LIFO, bruker Prim en min-prioritets-kø\n",
    "- prioriterer køen for vekten\n",
    "\n",
    "```\n",
    "MST-PRIM(G, w, r):\n",
    "    for each u in G.V\n",
    "        u.key = inf\n",
    "        u.pi = NIL\n",
    "    r.key = 0\n",
    "    Q = Ø\n",
    "    for each u in G.V\n",
    "        Insert(Q, u)\n",
    "    while Q != U\n",
    "        u = extract-min(Q)\n",
    "        for each v in G.Adj[u]\n",
    "            if v in Q and w(u, v) < v.key\n",
    "                v.pi = u\n",
    "                v.key = w(u, v)\n",
    "                Decr-Key(Q, v, w(u, v))\n",
    "```\n",
    "\n",
    "### Kjøretid\n",
    "\n",
    "Build-min-heap\n",
    "- Antall 1 => O(V)\n",
    "\n",
    "Extract-min\n",
    "- antall V => O(lg(V))\n",
    "\n",
    "Decrease-key\n",
    "- Antall E => O(lg(V))\n",
    "\n",
    "TOTALT => E lg(V)"
   ]
  },
  {
   "cell_type": "markdown",
   "metadata": {},
   "source": []
  }
 ],
 "metadata": {
  "kernelspec": {
   "display_name": "Python 3.10.7 64-bit",
   "language": "python",
   "name": "python3"
  },
  "language_info": {
   "name": "python",
   "version": "3.10.7"
  },
  "orig_nbformat": 4,
  "vscode": {
   "interpreter": {
    "hash": "b0fa6594d8f4cbf19f97940f81e996739fb7646882a419484c72d19e05852a7e"
   }
  }
 },
 "nbformat": 4,
 "nbformat_minor": 2
}
