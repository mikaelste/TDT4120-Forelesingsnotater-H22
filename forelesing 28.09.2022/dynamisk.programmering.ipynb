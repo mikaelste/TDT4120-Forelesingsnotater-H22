{
 "cells": [
  {
   "cell_type": "code",
   "execution_count": 1,
   "metadata": {},
   "outputs": [],
   "source": [
    "import numpy as np"
   ]
  },
  {
   "cell_type": "markdown",
   "metadata": {},
   "source": [
    "# 1:6 mer om dekomponering\n",
    "\n",
    "Når fungerer rekusrsiv dekomponering?\n",
    "-> fungerer IKKE alltid\n",
    "\n",
    "Krever at løsninger er bygget på delløsninger\n",
    "\n",
    "-> Optimaliseringsproblemer kaller dette for \"optimal deltruktur\". Mer om dette siden...\n",
    "**Principal of optimality*"
   ]
  },
  {
   "cell_type": "markdown",
   "metadata": {},
   "source": [
    "# 2:6 Stammekapping\n",
    "\n",
    "**problem**\n",
    "INPUT:\n",
    "- Får inne en lengde $n$ og proser $p_i$ for lengder $i = 1, ..., n$\n",
    "\n",
    "OUPUT:\n",
    "- Lengder $l_1, ..., l_k$ der summen av lengder $l_1+...+l_k$ er $n$ og totalprisen $r_n = p*l_1...+p*l_k$\n",
    "\n"
   ]
  },
  {
   "cell_type": "code",
   "execution_count": 9,
   "metadata": {},
   "outputs": [],
   "source": [
    "from math import inf\n",
    "t = [1,5,6,8, 12, 13, 16, 17, 18, 18, 24, 35, 46, 57, 68]"
   ]
  },
  {
   "cell_type": "code",
   "execution_count": 12,
   "metadata": {},
   "outputs": [],
   "source": [
    "def cut_rod(p, n):\n",
    "    if n == 0:\n",
    "        return 0\n",
    "    q = -inf\n",
    "    for i in range(1, n + 1):\n",
    "        q = max([q, p[i] + cut_rod(p, n-1)])\n",
    "    return q"
   ]
  },
  {
   "cell_type": "markdown",
   "metadata": {},
   "source": []
  },
  {
   "cell_type": "code",
   "execution_count": 7,
   "metadata": {},
   "outputs": [],
   "source": [
    "def memoized_cut_rod(p, n):\n",
    "    arr = [] # 0 -> n\n",
    "    for i in range (0, n+1):\n",
    "        arr[i] = -inf\n",
    "    return memoized_cut_rod_aux(p, n, arr)\n",
    "\n",
    "def memoized_cut_rod_aux(p, n, r):\n",
    "    if r[n] >= 0:\n",
    "        return r[n]\n",
    "    if n == 0:\n",
    "        q = 0\n",
    "    else: q = -inf\n",
    "    for i in range(1, n+1):\n",
    "        q = max([q, p[i]+memoized_cut_rod_aux(p, n-i, r)])\n",
    "    r[n] = q\n",
    "    return q\n",
    "\n",
    "def bottom_up_cut_rod(p, n):\n",
    "    arr = [] # 0 -> n\n",
    "    arr[0] = 0\n",
    "    for j in range (n+1):\n",
    "        q = -inf\n",
    "        for i in range(1, j+1):\n",
    "            q = max([q, p[i]+arr[j-i]])\n",
    "        arr[j] = q\n",
    "    return arr[n]\n",
    "\n"
   ]
  },
  {
   "cell_type": "code",
   "execution_count": 14,
   "metadata": {},
   "outputs": [],
   "source": [
    "cut_normal = cut_rod([1,5,6,8, 12, 13, 16, 17, 18, 18, 24, 35, 46, 57, 68], 3)"
   ]
  },
  {
   "cell_type": "code",
   "execution_count": 15,
   "metadata": {},
   "outputs": [
    {
     "name": "stdout",
     "output_type": "stream",
     "text": [
      "19\n"
     ]
    }
   ],
   "source": [
    "print(cut_normal)"
   ]
  },
  {
   "cell_type": "code",
   "execution_count": null,
   "metadata": {},
   "outputs": [],
   "source": [
    "cut_aux = memoized_cut_rod()"
   ]
  }
 ],
 "metadata": {
  "kernelspec": {
   "display_name": "Python 3.10.2 64-bit",
   "language": "python",
   "name": "python3"
  },
  "language_info": {
   "codemirror_mode": {
    "name": "ipython",
    "version": 3
   },
   "file_extension": ".py",
   "mimetype": "text/x-python",
   "name": "python",
   "nbconvert_exporter": "python",
   "pygments_lexer": "ipython3",
   "version": "3.10.2"
  },
  "orig_nbformat": 4,
  "vscode": {
   "interpreter": {
    "hash": "7e1998ff7f8aa20ada591c520b972326324e5ea05489af9e422744c7c09f6dad"
   }
  }
 },
 "nbformat": 4,
 "nbformat_minor": 2
}
