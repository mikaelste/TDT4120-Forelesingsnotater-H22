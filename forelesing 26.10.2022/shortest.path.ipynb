{
 "cells": [
  {
   "cell_type": "code",
   "execution_count": 2,
   "metadata": {},
   "outputs": [],
   "source": [
    "import numpy as np"
   ]
  },
  {
   "cell_type": "markdown",
   "metadata": {},
   "source": [
    "# Korteste vei fra én til alle (forelesing 10)\n",
    "\n",
    "### SSSP -> **Single source, shortest path** (én til alle)\n",
    "### SSSP (Alle til én -> snu veier og gjør det på nytt i lineær tid)\n",
    "\n",
    "&rarr; Én til en har ikke noe bedre enn SSSP\n",
    "\n",
    "### APSP -> **All pairs shortest path: Alle til alle**\n",
    "\n",
    "**INPUT:** En rettet vektet graf med en startnode S\n",
    "\n",
    "**OUTPUT:** Stier / sekvenser av noder som har en minimal vektsum\n",
    "\n",
    "Hva skjer med en uretta graf ? -> Går helt fint med å si det går en kant hver veg"
   ]
  },
  {
   "cell_type": "markdown",
   "metadata": {},
   "source": [
    "- En *enkel* sti er en sti uten sykler (trail / walk er stier med sykler)\n",
    "- En *kortest sti* er alltid enkel\n",
    "- Negativ sykel - ingen sti kortest (loop)\n",
    "**- Det finnes fortsatt en kortest enkel sti**\n",
    "    - Finne den korteste, enkleste stien er uløst (NP-hard)\n",
    "\n",
    "## Oppgave 20.4-2\n",
    "Hvordan kan du finne antall stier mellom to noder i en rettet, asyklisk graf i lineær tid?\n",
    "- antall stier fra startnoden = summen av antall nye stier fra hver nabo fra noden til sluttnoden\n",
    "\n",
    "Løsning:\n",
    "- Dynamisk programmering. Antall veier til node $v_i$, beregnes i topolofisk sortert rekkefølge, $i = 1, ..., n$, og er summen av antall veier til forgjengerne"
   ]
  },
  {
   "cell_type": "markdown",
   "metadata": {
    "tags": []
   },
   "source": [
    "# 1:3 Dag-Shortest-Path\n",
    "\n",
    "Delkomponering\n",
    "\n",
    "INSTANS:\n",
    "- En rettet graf G med vekting $w$, og noder $s, v$ i G\n",
    "    Løsning\n",
    "    - Avstand $\\sigma(s, v)$ fra $s$ til $v$ i G\n",
    "\n",
    "DEKOMPONERING\n",
    "- For hver mulige sti s; fra u til v, dropp kanten (u,v)\n",
    "    Løsning\n",
    "    - Velg kan (u,v) der $\\sigma(s, u) + w(u,v)$ er minst\n",
    "\n",
    "DELINSTANS\n",
    "- Samme graf, og noder s, u for hver kan (u,v)\n",
    "    løsning\n",
    "    - Avstand $\\sigma(s, u)$ fra s til u i G\n",
    "\n",
    "```\n",
    "Topologcally sort G\n",
    "s.d = 0\n",
    "s.pi = 0\n",
    "for each v in G.V:\n",
    "    v.d = inf\n",
    "    v.pi = 0\n",
    "    for each edge(u, v) in G.E:\n",
    "        if v.d > u.d + w(u, v):\n",
    "            v.d = u.d + w(u, v)\n",
    "```\n",
    "\n"
   ]
  },
  {
   "cell_type": "code",
   "execution_count": null,
   "metadata": {},
   "outputs": [],
   "source": [
    "def sort_topologically(G: dict):\n",
    "    # Sortert etter dybde først søk\n",
    "    pass\n",
    "\n",
    "def weight(u: object, v: object):\n",
    "    pass\n",
    "\n",
    "def dag_shortest_paths(G: dict, w: int, s: object):\n",
    "    G = sort_topologically(G)\n",
    "    s.d = 0\n",
    "    s.pi = None\n",
    "    for v in [v for v in G.V if v != s]:\n",
    "        v.d = 0\n",
    "        v.pi = None\n",
    "        for u in G.E:\n",
    "            if v.d > u.d + weight(u, v):\n",
    "                v.d = u.d + weight(u, v)\n",
    "                v.pi = u"
   ]
  },
  {
   "cell_type": "markdown",
   "metadata": {},
   "source": [
    "## Oppgave 22-2\n",
    "Du har d-dimensjonale bokser $B_1, ...B_n$ og vil velge lengst mulig sekvens $B_{i1}, ..., B_{ik}, der B_{ij}$ får plass inne i $B_{i_{j+1}}$ for $j = 1, ..., k-1$\n",
    "\n",
    "Løsning\n",
    "- Lager en graf av boksene for bokser som passer inn i en boks\n",
    "- Denne kan ikke være syklisk (vi finner en topologisk sortering)\n",
    "-> Relasjonen $B_i$ får plass inne i $B_j$ kan representeres som en rettet, asyklisk graf med boksene som noder. Vi kan finne den lengste stien på samme måte som vi finner den korteste."
   ]
  },
  {
   "cell_type": "markdown",
   "metadata": {},
   "source": [
    "## Bellman-Ford 2:3 (ikke i pensum (en slektning))\n",
    "- i stedenfor topologisk sortering, bruker vi køer\n",
    "- funker *ikke* med negative sykler, men funker med sykler!\n",
    "\n",
    "Oppdaterer vi verdiene langs den korteste stien, får vi riktig svar **(Path relaxation property)**"
   ]
  },
  {
   "cell_type": "code",
   "execution_count": 1,
   "metadata": {},
   "outputs": [],
   "source": [
    "def Initialize_Single_Source(G, s):\n",
    "    pass\n",
    "\n",
    "def Relax(u, v, w):\n",
    "    pass\n",
    "\n",
    "def Bellman_Ford(G, w, s):\n",
    "    Initialize_Single_Source(G, s)\n",
    "    for i in range (len(G.V)):\n",
    "        for (u, v) in G.V[i].nodes:\n",
    "            Relax(u, v, w)\n",
    "    for (u, v) in G.V[i].nodes:\n",
    "        if v.d > u.d + w(u, v):\n",
    "            return False\n",
    "    return True"
   ]
  },
  {
   "cell_type": "markdown",
   "metadata": {},
   "source": [
    "Bellman-Ford *kjøretid* : $\\Theta(VE)$"
   ]
  },
  {
   "cell_type": "markdown",
   "metadata": {},
   "source": [
    "## 3:3 Dijkstras Algoritme\n",
    "- Hvis vi vet at vi ikke har noen negative kanter\n",
    "\n",
    "**Noden med lavest estimat må være ferdig** (kommer ikke til å endre igjen)\n",
    "- Den kunne bare bli bedre via en annen node om vi hadde negative kanter"
   ]
  },
  {
   "cell_type": "code",
   "execution_count": 4,
   "metadata": {},
   "outputs": [],
   "source": [
    "def Decrease_Key(Q, v, d):\n",
    "    pass\n",
    "\n",
    "def Dijkstras(G, w, s):\n",
    "    Initialize_Single_Source(G, s)\n",
    "    S = []\n",
    "    Q = []\n",
    "    for u in G.V:\n",
    "        Q.append(u)\n",
    "    while len(Q) > 0:\n",
    "        u = np.min(Q)\n",
    "        S.append(u)\n",
    "        for v in G.neighbours:\n",
    "            old_d = v.d\n",
    "            Relax(u, v, w)\n",
    "            if old_d > v.d:\n",
    "                Decrease_Key(Q, v, v.d)\n",
    "                "
   ]
  },
  {
   "cell_type": "markdown",
   "metadata": {},
   "source": [
    "Dijkstras kjøretid: $V\\lg{V}+E\\lg{V}$"
   ]
  }
 ],
 "metadata": {
  "kernelspec": {
   "display_name": "Python 3.10.7 64-bit",
   "language": "python",
   "name": "python3"
  },
  "language_info": {
   "codemirror_mode": {
    "name": "ipython",
    "version": 3
   },
   "file_extension": ".py",
   "mimetype": "text/x-python",
   "name": "python",
   "nbconvert_exporter": "python",
   "pygments_lexer": "ipython3",
   "version": "3.10.7"
  },
  "orig_nbformat": 4,
  "vscode": {
   "interpreter": {
    "hash": "b0fa6594d8f4cbf19f97940f81e996739fb7646882a419484c72d19e05852a7e"
   }
  }
 },
 "nbformat": 4,
 "nbformat_minor": 2
}
