{
 "cells": [
  {
   "cell_type": "markdown",
   "metadata": {},
   "source": [
    "# Dagens tema\n",
    "\n",
    "1. Stakker og kører\n",
    "2. Lenkede lister\n",
    "3. Hashtabeller\n",
    "4. Dynamiske tabeller"
   ]
  },
  {
   "cell_type": "markdown",
   "metadata": {},
   "source": [
    "## 1. Stakker og køer\n",
    "\n",
    "### Stakk (stack) -> \"LIFO-kø\"\n",
    "&rarr; **kun adgang øverst** \n",
    "&rarr; API-et til en stack (grensesnittet) har du bare tilgang til å se på toppen\n",
    "        - Noen implementerer peek, for å se på elementer utover den på toppen\n",
    "\n",
    "`Stack-Empty(S)` - for å sjekke om en \"liste\", `S`, er tom\n",
    "- Kontroll på Stacken:\n",
    "    - Må ha kontroll på antallet\n",
    "\n",
    "`if S.top == 0: return True else False` kommer fra `Stack-Empty(S)``\n",
    "\n",
    "Pushe Elementer fra S:\n",
    "`Push(S, x): if S.top == S.size: error \"overflow\" else: S.top = S.top + 1; S[S.top] = x`\n",
    "\n",
    "Poppe elementer fra S:\n",
    "`Pop(S, x): if Stack-Empty(S): error \"overflow\" else: S.top = S.top - 1; return S[S.top + 1]`\n",
    "\n",
    "### Køer (queue) -> \"FIFO-kø\"\n",
    "&rarr;\n",
    "\n",
    "`Enqueue(Q, x)` for å legge til `x` i en liste `Q` \n",
    "\n",
    "`Q[Q.tail] = x; if Q.tail == Q.size: Q.tail = 1; else Q.tail ++;`\n",
    "\n",
    "`Dequeue(Q): if Q.head == Q.size: Q.head = 1; else Q.head ++;  return x`\n",
    "\n"
   ]
  },
  {
   "cell_type": "markdown",
   "metadata": {},
   "source": []
  },
  {
   "cell_type": "code",
   "execution_count": 1,
   "metadata": {},
   "outputs": [
    {
     "name": "stdout",
     "output_type": "stream",
     "text": [
      "[1, 2, 3, 4]\n"
     ]
    }
   ],
   "source": [
    "x = [1,2,3,4,4]\n",
    "x.pop()\n",
    "print(x)"
   ]
  },
  {
   "cell_type": "markdown",
   "metadata": {},
   "source": [
    "## 2. Lenkede Lister\n",
    "\n",
    "**Sentinel/vaktopost-list** har en vakt som passer på når du er kommet til slutten\n",
    "\n",
    "#### Lenka liste består av:\n",
    "- noder, peker på neste og kansje forrige\n",
    "- tar Lineær tid å slå opp på en gitt posisjon\n",
    "- tar konstant tid å sette inn/slette elementer\n",
    "\n",
    "\n",
    "for `L` = **lenke** og `k` = **nøkkelverdi**\n",
    "```\n",
    "List_Search(L, k):\n",
    "    x = L.head\n",
    "    while x != NIL and x.key != k: \n",
    "        x = x.next\n",
    "    return x;\n",
    "```\n",
    "\n",
    "`L.head` slår opp **minne** &rarr; og returnerer **addressen** x funnet i **minne** når `k.key` er lik `k`\n",
    "\n",
    "\n",
    "#### Legge til nytt hode\n",
    "`List_Prepend(L, x)` &rarr; legge til nytt hode `x` i liste `L` \n",
    "```\n",
    "x.next = L.head\n",
    "x.prev = NIL\n",
    "    if L.head != NIL: \n",
    "        L.head.prev = x;\n",
    "        L.head = x\n",
    "```\n",
    "\n",
    "#### Legge til element med gitt node\n",
    "```\n",
    "List_Insert(x, y):\n",
    "    x.next = y.next\n",
    "    x.prev = y\n",
    "    if y.next != NIL: \n",
    "        y.next.prev = x; \n",
    "        y.next = x;\n",
    "```\n",
    "#### Slette element\n",
    "```\n",
    "List_delete(L, x):\n",
    "    if x.prev != NIL: \n",
    "        x.prev.next = x.next; else L.head = x.next;\n",
    "    if x.next != NIL: \n",
    "        x.next.prev = x.prev\n",
    "```\n",
    "\n",
    "\n"
   ]
  },
  {
   "cell_type": "markdown",
   "metadata": {},
   "source": [
    "## Oppgave\n",
    "\n",
    "Å avgjøre om en tabell er uten duplikater må ha beviselig kjøretid $\\Omega (n*log(n))$\n",
    "\n",
    "- Hva sier dette om sortering?\n",
    "\n",
    "**Notater**\n",
    "- Har du en sortert liste kan du sjekke om den har duplikater i lineær tid!\n",
    "    - derav $n$\n",
    "- Finner naboer\n",
    "&rarr; Disse operasjonene må skje, og blir dermed algoritmen.\n",
    "\n",
    "*SVAR:*\n",
    "1. Sortering av Liste med kjøretid $X$\n",
    "2. Finne alle naboer = $O(n)$ eller $\\Theta(n)$\n",
    "\n",
    "Kjøretid blir da $X + O(n) = \\Omega(n*log(n) => X = \\Omega(n*log(n))$\n"
   ]
  },
  {
   "cell_type": "markdown",
   "metadata": {},
   "source": [
    "# 3. Hashtabeller\n",
    "\n",
    "## Direkte addressering &rarr **nøkkel** = **index**\n",
    "\n",
    "```\n",
    "Direct_Address_search(T, k)\n",
    "    return T[k]\n",
    "```\n",
    "```\n",
    "... MANGLER DATA!!! ...\n",
    "```\n",
    "\n",
    "## Hashtabeller\n",
    "\n",
    "### Hasfunksjoner\n",
    "IKKE ANBEFALT:\n",
    "\n",
    "```\n",
    "h(k) = floor(km)\n",
    "h(k) = k mod m\n",
    "h(k) = floor(m(kA mod 1))\n",
    "```\n",
    "\n",
    "Anbefalt: *Multipliser-og-Shift*\n",
    "$$h(k) = (ka \\mod 2^w) >>> w - l$$\n",
    "\n",
    "## Chaining\n",
    "\n",
    "Får vi kollisjoner hekter vi verdier på i lista.\n",
    "- Får samme map til Hash\n",
    "\n",
    "## FUNKSJONER PÅ CHAINING\n",
    "```\n",
    "Chained-Hash-Seach(T, k):\n",
    "    return List-Search(T[h(k)], k)\n",
    "```\n",
    "\n",
    "```\n",
    "Chained-Hash-Search(T, x):\n",
    "List-Prepend(T[h(x.key)], x)\n",
    "```\n",
    "```\n",
    "Direct-Address-Delete(T, x):\n",
    "    List-Delete(:::)\n",
    "```\n",
    "\n",
    "Hvordan forholde seg til dette?\n",
    "- Mange kollisjoner\n",
    "    - lineært mange lister\n",
    "- Lineært stor tabell (antatt)\n",
    "- Jevn, \"tilfeldig\" fordeling (antatt)\n",
    "&rarr; Konstant forventa kjøretid"
   ]
  },
  {
   "cell_type": "markdown",
   "metadata": {},
   "source": [
    "# 4. Dynamiske tabeller\n",
    "-> En liste i python\n",
    "\n",
    "**AMORTISERT ARBEID**\n",
    "- Kjøretid for en eksempel operasjon\n",
    "- gjennomsnittet etter mange tester\n",
    "- aggregert analyse\n",
    "    - totalt arbeid og del på antall operasjoner\n",
    "    - DFS, BFS og Dijkstras hvor indre løkke kan ta lineær tid\n",
    "\n",
    "### STACK med tre operasjoner &rarr; push, pop, multipop\n",
    "> N operasjoner med kjøretid $O(n)$, vil få total kjøretid $\\Theta(n^2) $\n",
    "\n"
   ]
  },
  {
   "cell_type": "markdown",
   "metadata": {},
   "source": []
  }
 ],
 "metadata": {
  "kernelspec": {
   "display_name": "Python 3.10.2 64-bit",
   "language": "python",
   "name": "python3"
  },
  "language_info": {
   "codemirror_mode": {
    "name": "ipython",
    "version": 3
   },
   "file_extension": ".py",
   "mimetype": "text/x-python",
   "name": "python",
   "nbconvert_exporter": "python",
   "pygments_lexer": "ipython3",
   "version": "3.10.2"
  },
  "orig_nbformat": 4,
  "vscode": {
   "interpreter": {
    "hash": "7e1998ff7f8aa20ada591c520b972326324e5ea05489af9e422744c7c09f6dad"
   }
  }
 },
 "nbformat": 4,
 "nbformat_minor": 2
}
