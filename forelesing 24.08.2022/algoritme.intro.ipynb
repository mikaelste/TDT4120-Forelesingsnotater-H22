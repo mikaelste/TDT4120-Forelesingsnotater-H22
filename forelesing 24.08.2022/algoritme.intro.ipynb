{
 "cells": [
  {
   "cell_type": "markdown",
   "metadata": {},
   "source": [
    "## Innhold\n",
    "1. Hva og hvorfor\n",
    "2. dekomponering\n",
    "3. Eksempel: **insertion-sort**\n",
    "4. Asymptotisk notasjon\n",
    "\n",
    "### Hovedbudskapet\n",
    "- brute-force funker ikke &rarr; kommer av matematisk induksjon\n",
    "    - dekomponering problemet i stedenfor\n",
    "        - Løse mindre instanser av problemet\n",
    "        - **bruker dette for å finne løsninger**"
   ]
  },
  {
   "cell_type": "markdown",
   "metadata": {},
   "source": [
    "# 1. Hva og hvorfor?\n",
    "- kjenne klassiske algoritmer\n",
    "- kjenne klassiske problemer\n",
    "- analysere og designe algoritmer\n",
    "\n",
    "### BOKA ER MER ENN EN ANBEFALT RESSURS\n",
    "\n",
    "### 1.1 Hvorfor ikke brute force?\n",
    "\n",
    "- Sortere kort eksempel:\n",
    "    - Bubble-sort - random / ikke randomisert\n",
    "        - idiotsortering...\n",
    "\n",
    "- Eksempel organ &rarr; organdonor\n",
    "-> venstre kolonne er donor\n",
    "-> høyre kolonne er mottaker\n",
    "    - hvordan finne den riktige?\n",
    "\n",
    "````\n",
    "for n = 4 | for n = 8\n",
    "N=4: Ford-fergurson 50% når brute force er 100%\n",
    "N=8: Brute force ~0% vs Ford-Fergurson 100%\n",
    "````\n",
    "\n",
    "#### key takeaways\n",
    "> Mange viktige problemer som trenger algoritmiske løsninger\n",
    "> kan matche en donor til en mottaker på $ \\frac{1}{2}h $ vs ~10000 mennesker på $ 10^{10} $ år\n"
   ]
  },
  {
   "cell_type": "markdown",
   "metadata": {},
   "source": [
    "## OPPGAVE 1\n",
    "N stykker hilser på hverandre, hvor mange håndtrykk blir det?\n",
    "> Alle hilser på absolutt alle $ = n^2 $ -> \n",
    "> Kan ikke hilse på seg seg $ (n^2 - n) $ ->\n",
    "> Halverer fordi du skal ikke hilse på noen to ganger. a med b, så IKKE b med a"
   ]
  },
  {
   "cell_type": "code",
   "execution_count": 9,
   "metadata": {},
   "outputs": [],
   "source": [
    "\n",
    "def handshake(n):\n",
    "    return n*(n-1)/2"
   ]
  },
  {
   "cell_type": "code",
   "execution_count": 8,
   "metadata": {},
   "outputs": [
    {
     "name": "stdout",
     "output_type": "stream",
     "text": [
      "1.0\n"
     ]
    }
   ],
   "source": [
    "print(handshake(2))"
   ]
  },
  {
   "cell_type": "markdown",
   "metadata": {},
   "source": [
    "# 2 Dekomponering\n",
    "- et problem med genrell input\n",
    "- et konkret input er en instans\n",
    "- Hvis et instans ikke kan mistforstås -> instans = problem\n",
    "\n",
    "| INSTANS: Hva er input?                       | LØSNING: Hva vil vi output skal være? |\n",
    "|----------------------------------------------|---------------------------------------|\n",
    "| DEKOMPONERING: Hvordan krympe/dele instansen | Kombinasjon: hvordan bygge full løsning av problemet? |\n",
    "| DELINSTANS: Bruddstykkene                    | DELLØSNING: løsningen på bruddstykket |\n",
    "|     …………………………………………………………………………             |        …………………………………………………………………      | \n",
    "| GRUNNTILFELLE: Hva stopper dekomponeringen   | GRUNNLØSNING: Hva er løsningen?       |\n",
    "\n",
    "\n",
    "### Induksjon\n",
    ".... mangler noe her .... ellers kan du se matte 3 🤓\n",
    "\n",
    "### Delinduksjon\n",
    "\n",
    "Induksjonsstigen:\n",
    "\n",
    "Vilkårlig valgt trin:\n",
    "$ \\frac{P(a)}{\\forall x P(x)}$\n",
    "\n",
    "|Løsning|\n",
    "|------|\n",
    "| IT 5 |\n",
    "| IT 4 |\n",
    "| IT 3 |\n",
    "| IT 2 |\n",
    "| induktive trinn 1 |\n",
    "|------|\n",
    "| Bakken -> brunntilfeller |\n",
    "\n",
    "Problem:\n",
    "- en algoritme har én løsning for hver instans\n",
    "--> deler opp instansen i delinstanser\n",
    "Vi antar at vi kan løse delinstanser\n",
    "Løser *hver enkel instans*, så finner vi *én løsning* på selve problemet\n",
    "\n",
    "Rekursiv dekomponering\n",
    "- Kaller seg selv\n",
    "\n",
    "\n",
    "1. Induksjonshypotese\n",
    "... mangler trinn\n",
    "\n",
    "Iterativ dekomponering\n",
    "1. Invariant: egenskap ikke endres\n",
    "2. initialiserer: Inv. er sann ved start (første kort sortert f.eks)\n",
    "3. vedlikehold i hver iterasjon:\n",
    "    - Induktiv premiss (første sann)\n",
    "    - induksjonstrinn: vist sann etterpå\n",
    "    "
   ]
  },
  {
   "cell_type": "markdown",
   "metadata": {},
   "source": [
    "# 3. Insertion sort\n",
    "\n",
    "Rekonstruksjon, Dekomponering\n",
    "\n",
    "- sortere elementer\n",
    "    - grunntilfelle: sekvens med lengde 1\n",
    "    - rekursjon: sortere alle utenom det siste\n",
    "    - IH: anta det blir rett\n",
    "    - IS: sett inn siste element\n",
    "\n",
    "vil sortere [4,2,3,1] &rarr; [1,2,3,4]\n",
    "\n"
   ]
  },
  {
   "cell_type": "code",
   "execution_count": 25,
   "metadata": {},
   "outputs": [
    {
     "name": "stdout",
     "output_type": "stream",
     "text": [
      "[1, 2, 3, 4, 5, 6]\n"
     ]
    }
   ],
   "source": [
    "def insertion_sort(A: list[int]):\n",
    "    n: int = len(A)\n",
    "    for i in range(2, n):\n",
    "        key: int = A[i]\n",
    "        j:int = i - 1\n",
    "        while j >= 0 and A[j] > key:\n",
    "            A[j+1] = A[j]\n",
    "            j -= 1\n",
    "        A[j+1] = key\n",
    "    return A\n",
    "\n",
    "print(insertion_sort([2,5,4,6,1,3]))\n"
   ]
  },
  {
   "cell_type": "markdown",
   "metadata": {},
   "source": [
    "# 4. Asymptotisk notasjon\n",
    "\n",
    "Notasjon for båndbredde, minne, energi etc.\n",
    "*Notasjon for å skjule lavere ordens ledd for å sitte igjen med kjernen av noe*\n",
    "\n",
    "Vil finne kjøretid av en algoritme (ignorerer detaljer som hardware, progsspråk)\n",
    "\n",
    "#### Baserer oss på en abstrakt maskin\n",
    "- har bare enkle instruksjoner\n",
    "- flytting av data\n",
    "- tar konstant tid\n",
    "- håndtere heltall og flyttall \n",
    "- heltall er maks $c\\log n$ for $c$ større eller lik 1 (c kanskje strengt større enn n jf, foreleser)\n",
    "\n",
    "N er problemstørrelsen\n",
    "- lagrinsplassen som trengs (lagringsplassen er $n\\log n$)\n",
    "\n",
    "> Kjøretid er en funksjon av problemstørrelsen\n",
    "--\n",
    "Det avhenger av hvilke operasjoner vi gjør!\n",
    "\n",
    "## Eksempler:\n",
    "### **Thetanotasjon** $\\theta$\n",
    "$$ 42 = \\theta(1) $$\n",
    "$$ 2n + 5 = \\theta(n) $$\n",
    "$$ 4n^2 + 100n = \\theta(n^2) $$\n",
    "$$ n^k + n^{k-1} = \\theta(n^k) $$\n",
    "$$ n + \\log n = \\theta(n) $$\n",
    "$$ 2^n + n^k = \\theta(2^n) $$"
   ]
  },
  {
   "cell_type": "markdown",
   "metadata": {},
   "source": []
  }
 ],
 "metadata": {
  "kernelspec": {
   "display_name": "Python 3.10.2 64-bit",
   "language": "python",
   "name": "python3"
  },
  "language_info": {
   "codemirror_mode": {
    "name": "ipython",
    "version": 3
   },
   "file_extension": ".py",
   "mimetype": "text/x-python",
   "name": "python",
   "nbconvert_exporter": "python",
   "pygments_lexer": "ipython3",
   "version": "3.10.2"
  },
  "orig_nbformat": 4,
  "vscode": {
   "interpreter": {
    "hash": "7e1998ff7f8aa20ada591c520b972326324e5ea05489af9e422744c7c09f6dad"
   }
  }
 },
 "nbformat": 4,
 "nbformat_minor": 2
}
