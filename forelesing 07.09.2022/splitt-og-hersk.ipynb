{
 "cells": [
  {
   "cell_type": "code",
   "execution_count": 2,
   "metadata": {},
   "outputs": [],
   "source": [
    "import math\n",
    "import numpy as np"
   ]
  },
  {
   "cell_type": "markdown",
   "metadata": {},
   "source": [
    "# Splitt og hersk (**divide and conquer**)\n",
    "\n",
    "1. Rekurrenser\n",
    "2. Binærsøk\n",
    "    - Merge Sort\n",
    "    - Quicksort\n",
    "5. Masterteoremet"
   ]
  },
  {
   "cell_type": "markdown",
   "metadata": {},
   "source": [
    "## 1. Rekurrenser\n",
    "\n",
    "Muligens ikke å dele i to (Ikke potens av N)\n",
    "\n",
    "Vi definerer en funksjon &rarr;\n",
    "$f(n) = 2*[n]+1$\n",
    "\n",
    "Bli kvitt $f$ på høyre side av en rekurrens:\n",
    "$f(n)=f(n/2)+1$\n",
    "$f(n/2) = f(n/2/2) + 1$\n",
    "$f(n/2/2) = f(n/2/2/2) + 1$ ... og vi fortsette slikt\n",
    "\n",
    "... UTFORDRING Å NÅ BUNN ...\n",
    "\n",
    "**IDÈEN OG GRUNNTILFELLET**\n",
    "- Rekursiv likning må bli borte\n",
    "\n",
    "Hvordan (iterasjonsmetoden -> Ligger i pensumheftet)\n",
    "- FInn løsning\n",
    "    - Iterasjonsmetoden\n",
    "    - Rekursjonstre\n",
    "    - Masterteoremet\n",
    "- Verifiser løsning\n",
    "    - Subjunksjon (... induksjon)\n",
    "\n"
   ]
  },
  {
   "cell_type": "markdown",
   "metadata": {},
   "source": [
    "### Eksempel for 20 spørsmål -> Finne ved rekursiv halvering\n",
    "\n",
    "Finne et gitt atom (worst case)?"
   ]
  },
  {
   "cell_type": "code",
   "execution_count": 1,
   "metadata": {},
   "outputs": [],
   "source": [
    "def findAtom(number: float): # egen kode\n",
    "    n = 0\n",
    "    if (number > 1):\n",
    "        n += 1\n",
    "        return n + findAtom(number/2)\n",
    "    return n\n"
   ]
  },
  {
   "cell_type": "code",
   "execution_count": 36,
   "metadata": {},
   "outputs": [
    {
     "name": "stdout",
     "output_type": "stream",
     "text": [
      "266\n"
     ]
    }
   ],
   "source": [
    "print(findAtom(10**80))"
   ]
  },
  {
   "cell_type": "markdown",
   "metadata": {},
   "source": [
    "$$ T(n) = 1 $$\n",
    "$$+1\\space(1)$$\n",
    "$$+1\\space(2)$$\n",
    "$$... ...$$\n",
    "$$  + T(n-?)\\space(?)$$\n",
    "$? = (n-1)$\n",
    "-> Rekusjonen stoppen for T(1)\n",
    "\n",
    "### Hvordan stoppe rekursjonen?\n",
    "- Substitusjonsmetoden / induksjon\n",
    "\n",
    "$T(n) = T(n-1) + 1$\n",
    "\n",
    "&rarr; Gitt antakelsen $T$, vis at $T(n) = n$\n",
    "\n",
    "$T(n) = T(n-1) + 1 = (n-1) + 1 = n - 1 + 1 = n$\n",
    "\n",
    "1. Instans -> Løsning\n",
    "2. Dekomponering -> Kombinasjon\n",
    "3. Delinstans -> Delløsning\n",
    "... - ...\n",
    "4. Grunntilfelle -> Grunnløsning\n",
    "\n",
    "## 2. Binærsøk\n",
    "\n",
    "```\n",
    "Bisect(A, p, r, v):\n",
    "    if (p <= r):\n",
    "        q = floor((p+r)/2)\n",
    "        if v == A[q]:\n",
    "            return q\n",
    "    else if v < A[q]:\n",
    "        return Bisect(A, p , q-1, v)\n",
    "    else return Bisect(A, p , q-1, v)\n",
    "\n",
    "    return NIL\n",
    "p = startindex, q = left-of-mid index, r = endindex, v = value-to-be-found\n",
    "```"
   ]
  },
  {
   "cell_type": "markdown",
   "metadata": {},
   "source": [
    "#### Verifisering (induksjon)\n",
    "$T(k) = lg(k) + 1, k < n.$ Vis at $ T(n) = lg(n)+1$"
   ]
  },
  {
   "cell_type": "markdown",
   "metadata": {},
   "source": [
    "### 2.1 Merge sort\n",
    "\n",
    "```\n",
    "p = start, q = mid, r = end\n",
    "Merge(A, p, q, r):\n",
    "    copy into L and R\n",
    "    for k == p to r\n",
    "        if (L[i] <= R[j]):\n",
    "            A[k] = L[i]\n",
    "            i = i + l\n",
    "        else A[k] = R[j]\n",
    "            j = j + 1\n",
    "```\n",
    "Merge-sort algoritmen:\n",
    "\n",
    "$T(n) = 2T(n/2) + n$\n",
    "\n",
    "$$ T(n) = n$$\n",
    "$$ + n$$\n",
    "$$ + n$$\n",
    "$$...$$\n",
    "$$ + 2^? * T(n/2^?)$$\n",
    "&rarr; $? = lg(n)$\n",
    "$ => T(n) = n*lg(n)+n$\n",
    "\n",
    "#### Verifikasjon:\n",
    "$T(n) = 2*T(n/2)+n$\n",
    "\n",
    "**Gitt $T(k) = k*lg(k)+k$ for k < n, vis $ T(n) = n*lg(n)+n$**"
   ]
  },
  {
   "cell_type": "markdown",
   "metadata": {},
   "source": [
    "## 2.2 Quicksort\n",
    "\n",
    "- Tar ut et pivot element som du flytter elementer til venstre (mindre), eller til høyre for høyere\n",
    "\n",
    "Bruker en `partition(A, p, r)` som man bruker for å partisjonere datasettet\n",
    "- er setter ~nesten sortert er dette veldig dumt å gjøre!\n",
    "\n",
    "Kjøretid $n*lg(n)$ (gjennomsnittelig og hvis funnet pivot på midten som i merge-sort)\n",
    "\n",
    "Gjelder for &rarr; $T(n) = T(n-1) + n$\n",
    "\n",
    "Ellers &rarr; $T(n) = n(n+1)/2$ => Kjøretid $O(n^2)$ -> ikkje bra"
   ]
  },
  {
   "cell_type": "markdown",
   "metadata": {},
   "source": [
    "# 3. Masterteoremet\n",
    "\n",
    "For å løse:\n",
    "$$T(n) = a*T(n/b) + f(n)$$\n",
    "\n",
    "$f(n)$ er den drivende funksjonen\n",
    "\n",
    "**Vi finner med iterasjonsmetoden at:**\n",
    "$T(n) = f(n) + a*f(n/b) + a^2*f(n/b^2)$ .... + $a^(n*log_b*a)$ ($log_b/n$)\n",
    "\n",
    "$f(n) = \\Theta(n^{log_b*a+\\epsilon}) => T(n) = \\Theta(f(n))$"
   ]
  },
  {
   "cell_type": "markdown",
   "metadata": {},
   "source": []
  }
 ],
 "metadata": {
  "kernelspec": {
   "display_name": "Python 3.10.2 64-bit",
   "language": "python",
   "name": "python3"
  },
  "language_info": {
   "codemirror_mode": {
    "name": "ipython",
    "version": 3
   },
   "file_extension": ".py",
   "mimetype": "text/x-python",
   "name": "python",
   "nbconvert_exporter": "python",
   "pygments_lexer": "ipython3",
   "version": "3.10.2"
  },
  "orig_nbformat": 4,
  "vscode": {
   "interpreter": {
    "hash": "7e1998ff7f8aa20ada591c520b972326324e5ea05489af9e422744c7c09f6dad"
   }
  }
 },
 "nbformat": 4,
 "nbformat_minor": 2
}
